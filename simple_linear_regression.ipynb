{
  "nbformat": 4,
  "nbformat_minor": 0,
  "metadata": {
    "colab": {
      "name": "simple linear regression.ipynb",
      "version": "0.3.2",
      "provenance": []
    },
    "kernelspec": {
      "name": "python3",
      "display_name": "Python 3"
    }
  },
  "cells": [
    {
      "cell_type": "code",
      "metadata": {
        "id": "Zqnm_2scW-gw",
        "colab_type": "code",
        "outputId": "c07689a0-ef4c-4dbb-a3c0-3c140f16864a",
        "colab": {
          "base_uri": "https://localhost:8080/",
          "height": 68
        }
      },
      "source": [
        "from sklearn import linear_model\n",
        "from sklearn.metrics import mean_squared_error,r2_score\n",
        "\n",
        "x_train=[[1],[2],[3],[4],[5]]\n",
        "y_train=[[2],[4],[6],[8],[10]]\n",
        "\n",
        "regr = linear_model.LinearRegression()\n",
        "\n",
        "regr.fit(x_train, y_train)\n",
        "\n",
        "x_test=[[6],[7]]\n",
        "\n",
        "y_results=regr.predict(x_test)\n",
        "\n",
        "print(y_results)\n",
        "print(x_test)"
      ],
      "execution_count": 0,
      "outputs": [
        {
          "output_type": "stream",
          "text": [
            "[[12.]\n",
            " [14.]]\n",
            "[[6], [7]]\n"
          ],
          "name": "stdout"
        }
      ]
    },
    {
      "cell_type": "code",
      "metadata": {
        "id": "pahNAqlgb7NL",
        "colab_type": "code",
        "colab": {}
      },
      "source": [
        ""
      ],
      "execution_count": 0,
      "outputs": []
    }
  ]
}